{
 "cells": [
  {
   "cell_type": "code",
   "execution_count": 1,
   "metadata": {},
   "outputs": [
    {
     "name": "stdout",
     "output_type": "stream",
     "text": [
      "Password must:\n",
      "    Be 8-16 characters\n",
      "    Contain at least one of the following characters: %$^&*!@() \n",
      "    Contain at least one number\n",
      "    Contain at least one capital letter\n",
      "    Start with a lowercase letter\n",
      "    Cannot contain any of the following phrases: 'pass', 'qwerty', '123'\n"
     ]
    }
   ],
   "source": [
    "print(\"\"\"Password must:\n",
    "    Be 8-16 characters\n",
    "    Contain at least one of the following characters: %$^&*!@() \n",
    "    Contain at least one number\n",
    "    Contain at least one capital letter\n",
    "    Start with a lowercase letter\n",
    "    Cannot contain any of the following phrases: 'pass', 'qwerty', '123'\"\"\")\n"
   ]
  },
  {
   "cell_type": "code",
   "execution_count": 2,
   "metadata": {},
   "outputs": [
    {
     "name": "stdout",
     "output_type": "stream",
     "text": [
      "Incorrect requirement: Your password starts with an uppercase letter. It should start with a lowercase letter.\n"
     ]
    }
   ],
   "source": [
    "import re\n",
    "p = input(\"Please enter a password that conforms to the above restrictions\")\n",
    "x = True\n",
    "while x:\n",
    "    if not re.search(\"[a-z]\",p [0]):\n",
    "        print(\"Incorrect requirement: Your password starts with an uppercase letter. It should start with a lowercase letter.\")\n",
    "        break\n"
   ]
  },
  {
   "cell_type": "code",
   "execution_count": 3,
   "metadata": {},
   "outputs": [
    {
     "name": "stdout",
     "output_type": "stream",
     "text": [
      "Incorrect requirement: Your password length is less than 8 or greater than 16.\n"
     ]
    }
   ],
   "source": [
    "import re\n",
    "p = input(\"Please enter a password that conforms to the above restrictions\")\n",
    "x = True\n",
    "while x:\n",
    "    if not re.search(\"[a-z]\",p [0]):\n",
    "        print(\"Incorrect requirement: Your password starts with an uppercase letter. It should start with a lowercase letter.\")\n",
    "        break\n",
    "    elif (len(p) < 8 or len(p) > 16):\n",
    "        print(\"Incorrect requirement: Your password length is less than 8 or greater than 16.\")\n",
    "        break\n",
    "    #testing elif statment for length requirement\n"
   ]
  },
  {
   "cell_type": "code",
   "execution_count": 4,
   "metadata": {},
   "outputs": [
    {
     "name": "stdout",
     "output_type": "stream",
     "text": [
      "Incorrect requirement: Password must contain at least one number 0-9.\n"
     ]
    }
   ],
   "source": [
    "import re\n",
    "p = input(\"Please enter a password that conforms to the above restrictions\")\n",
    "x = True\n",
    "while x:\n",
    "    if not re.search(\"[a-z]\",p [0]):\n",
    "        print(\"Incorrect requirement: Your password starts with an uppercase letter. It should start with a lowercase letter.\")\n",
    "        break\n",
    "    elif (len(p) < 8 or len(p) > 16):\n",
    "        print(\"Incorrect requirement: Your password length is less than 8 or greater than 16.\")\n",
    "        break\n",
    "    elif not re.search(\"[0-9]\", p):\n",
    "        print(\"Incorrect requirement: Password must contain at least one number 0-9.\")\n",
    "        break\n",
    "        #testing number requirement"
   ]
  },
  {
   "cell_type": "code",
   "execution_count": 5,
   "metadata": {},
   "outputs": [
    {
     "name": "stdout",
     "output_type": "stream",
     "text": [
      "Incorrect requirement: Password does not contain at least one uppercase letter.\n"
     ]
    }
   ],
   "source": [
    "import re\n",
    "p = input(\"Please enter a password that conforms to the above restrictions\")\n",
    "x = True\n",
    "while x:\n",
    "    if not re.search(\"[a-z]\",p [0]):\n",
    "        print(\"Incorrect requirement: Your password starts with an uppercase letter. It should start with a lowercase letter.\")\n",
    "        break\n",
    "    elif (len(p) < 8 or len(p) > 16):\n",
    "        print(\"Incorrect requirement: Your password length is less than 8 or greater than 16.\")\n",
    "        break\n",
    "    elif not re.search(\"[0-9]\", p):\n",
    "        print(\"Incorrect requirement: Password must contain at least one number 0-9.\")\n",
    "        break\n",
    "    elif not re.search(\"[A-Z]\", p):\n",
    "        print(\"Incorrect requirement: Password does not contain at least one uppercase letter.\")\n",
    "        break\n",
    "        #testing uppercase letter requirement\n",
    "        "
   ]
  }
 ],
 "metadata": {
  "kernelspec": {
   "display_name": "Python 3",
   "language": "python",
   "name": "python3"
  },
  "language_info": {
   "codemirror_mode": {
    "name": "ipython",
    "version": 3
   },
   "file_extension": ".py",
   "mimetype": "text/x-python",
   "name": "python",
   "nbconvert_exporter": "python",
   "pygments_lexer": "ipython3",
   "version": "3.13.2"
  }
 },
 "nbformat": 4,
 "nbformat_minor": 2
}
